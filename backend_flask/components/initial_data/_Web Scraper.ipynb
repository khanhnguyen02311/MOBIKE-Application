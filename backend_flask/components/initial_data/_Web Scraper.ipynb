{
 "cells": [
  {
   "cell_type": "markdown",
   "metadata": {},
   "source": [
    "#### Using data from okxe.vn"
   ]
  },
  {
   "cell_type": "code",
   "execution_count": null,
   "metadata": {},
   "outputs": [],
   "source": [
    "from urllib.request import urlopen\n",
    "import requests\n",
    "import numpy as np\n",
    "import pandas as pd\n",
    "from bs4 import BeautifulSoup"
   ]
  },
  {
   "cell_type": "code",
   "execution_count": null,
   "metadata": {},
   "outputs": [],
   "source": [
    "url = \"https://webscraper.io/test-sites/tables\""
   ]
  },
  {
   "cell_type": "code",
   "execution_count": null,
   "metadata": {},
   "outputs": [],
   "source": [
    "html_code = urlopen(url).read().decode(\"utf-8\")\n",
    "soup = BeautifulSoup(html_code)"
   ]
  },
  {
   "cell_type": "code",
   "execution_count": null,
   "metadata": {},
   "outputs": [],
   "source": [
    "soup.find_all(\"h2\")"
   ]
  },
  {
   "cell_type": "markdown",
   "metadata": {},
   "source": [
    "-----------------------------"
   ]
  },
  {
   "cell_type": "code",
   "execution_count": null,
   "metadata": {},
   "outputs": [],
   "source": [
    "brands_url = \"https://api.okxe.vn/api/v2/brands?is_active=1\"\n",
    "models_url = \"https://api.okxe.vn/api/v2/models?brand_id=1&is_active=1\"\n",
    "posts_url = \"https://api.okxe.vn/api/v2/products?sort_of=product_new&page=1&per_page=256\"\n",
    "colors_url = \"https://api.okxe.vn/api/v2/colors\""
   ]
  },
  {
   "cell_type": "code",
   "execution_count": null,
   "metadata": {},
   "outputs": [],
   "source": [
    "brands_data = requests.get(brands_url)\n",
    "posts_data = requests.get(posts_url)\n",
    "models_data = requests.get(models_url)\n",
    "colors_data = requests.get(colors_url)"
   ]
  },
  {
   "cell_type": "code",
   "execution_count": null,
   "metadata": {},
   "outputs": [],
   "source": [
    "posts_data.json()"
   ]
  },
  {
   "cell_type": "code",
   "execution_count": null,
   "metadata": {},
   "outputs": [],
   "source": [
    "brands_data.json()['data']"
   ]
  },
  {
   "cell_type": "code",
   "execution_count": null,
   "metadata": {},
   "outputs": [],
   "source": [
    "models_data.json()['data']"
   ]
  },
  {
   "cell_type": "code",
   "execution_count": null,
   "metadata": {},
   "outputs": [],
   "source": [
    "posts_data.json()['data']"
   ]
  },
  {
   "cell_type": "code",
   "execution_count": null,
   "metadata": {},
   "outputs": [],
   "source": [
    "post = posts_data.json()['data'][0]"
   ]
  },
  {
   "cell_type": "code",
   "execution_count": null,
   "metadata": {},
   "outputs": [],
   "source": [
    "att_Vehicle_name = post['product_name']\n",
    "att_Odometer = post['used_distance']\n",
    "att_License_plate = post['license_plate']\n",
    "att_Cubic_power = post['engine']\n",
    "att_Manufacture_year = post['release_year']\n",
    "att_City = post['location']['name']\n",
    "att_ID_VehicleBrand = post['brand_id']\n",
    "att_ID_VehicleLineup = post['model']['id']\n",
    "att_Condition = post['used_status']\n",
    "att_ID_VehicleType = post['type']\n",
    "att_ID_Color = post['color'][0]['color_id']"
   ]
  },
  {
   "cell_type": "code",
   "execution_count": null,
   "metadata": {},
   "outputs": [],
   "source": [
    "att_Vehicle_name, att_Odometer, att_License_plate, att_Cubic_power, att_Manufacture_year, att_City, att_ID_VehicleBrand, att_ID_VehicleLineup, att_Condition, att_ID_VehicleType, att_ID_Color"
   ]
  },
  {
   "cell_type": "code",
   "execution_count": null,
   "metadata": {},
   "outputs": [],
   "source": [
    "att_Title = post['q_product_name']\n",
    "att_Content = post['description']\n",
    "att_Pricetag = post['price']\n",
    "\n",
    "att_Image = post['image']['medium']"
   ]
  },
  {
   "cell_type": "code",
   "execution_count": null,
   "metadata": {},
   "outputs": [],
   "source": [
    "att_Title, att_Content, att_Pricetag, att_Image"
   ]
  },
  {
   "cell_type": "markdown",
   "metadata": {},
   "source": [
    "-----"
   ]
  },
  {
   "cell_type": "code",
   "execution_count": null,
   "metadata": {},
   "outputs": [],
   "source": [
    "brands_table = pd.DataFrame(data=brands_data.json()['data']).drop(labels=['logo_normal', 'sort_num', 'is_active'], axis=1)"
   ]
  },
  {
   "cell_type": "code",
   "execution_count": null,
   "metadata": {},
   "outputs": [],
   "source": [
    "brands_table"
   ]
  },
  {
   "cell_type": "code",
   "execution_count": null,
   "metadata": {},
   "outputs": [],
   "source": [
    "total_data = []\n",
    "for index, row in brands_table.iterrows():\n",
    "   url = f\"https://api.okxe.vn/api/v2/models?brand_id={row['id']}&is_active=1\"\n",
    "   data = requests.get(url).json()['data']\n",
    "   for i in data:\n",
    "      i['brand_id'] = row['id']\n",
    "      total_data.append(i)"
   ]
  },
  {
   "cell_type": "code",
   "execution_count": null,
   "metadata": {},
   "outputs": [],
   "source": [
    "models_table = pd.DataFrame(data=total_data).drop(columns=['image'])"
   ]
  },
  {
   "cell_type": "code",
   "execution_count": null,
   "metadata": {},
   "outputs": [],
   "source": [
    "models_table"
   ]
  },
  {
   "cell_type": "code",
   "execution_count": null,
   "metadata": {},
   "outputs": [],
   "source": [
    "colors_table = pd.DataFrame(data=colors_data.json()['data'])"
   ]
  },
  {
   "cell_type": "code",
   "execution_count": null,
   "metadata": {},
   "outputs": [],
   "source": [
    "colors_table"
   ]
  },
  {
   "cell_type": "code",
   "execution_count": null,
   "metadata": {},
   "outputs": [],
   "source": [
    "condition_data = [\n",
    "   {'id': 1,\n",
    "    'name': 'New'},\n",
    "   {'id': 2,\n",
    "    'name': 'Used'}\n",
    "]\n",
    "condition_table = pd.DataFrame(data=condition_data, index=None)"
   ]
  },
  {
   "cell_type": "code",
   "execution_count": null,
   "metadata": {},
   "outputs": [],
   "source": [
    "vehicletype_data = [\n",
    "   {'id': 1,\n",
    "    'name': 'Scooter'},\n",
    "   {'id': 2,\n",
    "    'name': 'Manual'},\n",
    "   {'id': 3,\n",
    "    'name': 'Motorbike'},\n",
    "   {'id': 4,\n",
    "    'name': 'Electric'}\n",
    "]\n",
    "vehicletype_table = pd.DataFrame(data=vehicletype_data, index=None)\n",
    "vehicletype_table"
   ]
  },
  {
   "cell_type": "code",
   "execution_count": null,
   "metadata": {},
   "outputs": [],
   "source": [
    "num_request = 256\n",
    "total_post = []\n",
    "total_vehicleinfo = []\n",
    "\n",
    "url = f\"https://api.okxe.vn/api/v2/products?sort_of=product_new&page=1&per_page={num_request}&include=advertisement\"\n",
    "data = requests.get(url).json()['data']"
   ]
  },
  {
   "cell_type": "code",
   "execution_count": null,
   "metadata": {},
   "outputs": [],
   "source": [
    "for j in range(num_request):\n",
    "   item = data[j]\n",
    "   vehicle_info = {\n",
    "      'infoid': j + 1,\n",
    "      'Vehicle_name': item['product_name'],\n",
    "      'Odometer': item['used_distance'],\n",
    "      'License_plate': item['license_plate'],\n",
    "      'Cubic_power': item['engine'],\n",
    "      'Manufacture_year': item['release_year'],\n",
    "      'ID_VehicleBrand': item['brand_id'],\n",
    "      'ID_VehicleLineup': item['model']['id'],\n",
    "      'Condition': item['used_status'],\n",
    "      'ID_VehicleType': item['type'],\n",
    "      'ID_Color': item['color'][0]['color_id']\n",
    "   }\n",
    "   post = {\n",
    "      'Title': item['q_product_name'],\n",
    "      'Content': item['description'],\n",
    "      'Pricetag': item['price'],\n",
    "      'Image': item['image']['medium'],\n",
    "      'City_name': item['location']['name'],\n",
    "      'ID_VehicleInfo': j + 1\n",
    "   }\n",
    "   print(item['product_name'] or '###' + \" - \" + item['license_plate'] or '###')\n",
    "   total_vehicleinfo.append(vehicle_info)\n",
    "   total_post.append(post)"
   ]
  },
  {
   "cell_type": "code",
   "execution_count": null,
   "metadata": {},
   "outputs": [],
   "source": [
    "total_vehicleinfo"
   ]
  },
  {
   "cell_type": "code",
   "execution_count": null,
   "metadata": {},
   "outputs": [],
   "source": [
    "posts_table = pd.DataFrame(data=total_post)\n",
    "vehicleinfo_table = pd.DataFrame(data=total_vehicleinfo)"
   ]
  },
  {
   "cell_type": "code",
   "execution_count": null,
   "metadata": {},
   "outputs": [],
   "source": [
    "posts_table"
   ]
  },
  {
   "cell_type": "code",
   "execution_count": null,
   "metadata": {},
   "outputs": [],
   "source": [
    "posts_table['City_name'].unique(), vehicleinfo_table['Condition'].unique()"
   ]
  },
  {
   "cell_type": "code",
   "execution_count": null,
   "metadata": {},
   "outputs": [],
   "source": [
    "posts_table.isnull().sum()"
   ]
  },
  {
   "cell_type": "code",
   "execution_count": null,
   "metadata": {},
   "outputs": [],
   "source": [
    "mask_new = vehicleinfo_table.Condition == 'new'\n",
    "mask_used = vehicleinfo_table.Condition == 'used'\n",
    "vehicleinfo_table.loc[mask_new, 'Condition'] = 1\n",
    "vehicleinfo_table.loc[mask_used, 'Condition'] = 2"
   ]
  },
  {
   "cell_type": "code",
   "execution_count": null,
   "metadata": {},
   "outputs": [],
   "source": [
    "vehicleinfo_table"
   ]
  },
  {
   "cell_type": "code",
   "execution_count": null,
   "metadata": {},
   "outputs": [],
   "source": [
    "vehicleinfo_table.isnull().sum()"
   ]
  },
  {
   "cell_type": "code",
   "execution_count": null,
   "metadata": {},
   "outputs": [],
   "source": [
    "brands_table.to_csv(\"VehicleBrand.csv\", index=None)\n",
    "models_table.to_csv(\"VehicleLineup.csv\", index=None)\n",
    "posts_table.to_csv(\"Post.csv\", index=None)\n",
    "vehicleinfo_table.to_csv(\"VehicleInfo.csv\", index=None)\n",
    "colors_table.to_csv('Color.csv', index=None)\n",
    "condition_table.to_csv('VehicleCondition.csv', index=None)\n",
    "vehicletype_table.to_csv('VehicleType.csv', index=None)"
   ]
  }
 ],
 "metadata": {
  "kernelspec": {
   "display_name": "Python 3",
   "language": "python",
   "name": "python3"
  },
  "language_info": {
   "codemirror_mode": {
    "name": "ipython",
    "version": 3
   },
   "file_extension": ".py",
   "mimetype": "text/x-python",
   "name": "python",
   "nbconvert_exporter": "python",
   "pygments_lexer": "ipython3",
   "version": "3.11.0 (main, Oct 24 2022, 18:26:48) [MSC v.1933 64 bit (AMD64)]"
  },
  "orig_nbformat": 4,
  "vscode": {
   "interpreter": {
    "hash": "318f2c383d48220c821fefd227250c35bb828f95042f5889a5ad1704b1baf79c"
   }
  }
 },
 "nbformat": 4,
 "nbformat_minor": 2
}
