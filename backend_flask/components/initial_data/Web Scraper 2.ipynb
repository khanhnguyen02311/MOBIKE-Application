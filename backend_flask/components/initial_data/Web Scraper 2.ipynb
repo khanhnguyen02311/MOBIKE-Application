{
 "cells": [
  {
   "cell_type": "code",
   "execution_count": 83,
   "metadata": {},
   "outputs": [],
   "source": [
    "import pandas as pd\n",
    "import numpy as np"
   ]
  },
  {
   "cell_type": "code",
   "execution_count": 84,
   "metadata": {},
   "outputs": [],
   "source": [
    "post_table = pd.read_csv('Post.csv', index_col=False)\n",
    "vehicleinfo_table = pd.read_csv('VehicleInfo.csv', index_col=False)\n",
    "vehiclebrand_table = pd.read_csv('VehicleBrand.csv', index_col=False)\n",
    "vehiclelineup_table = pd.read_csv('VehicleLineup.csv', index_col=False)\n",
    "vehicletype_table = pd.read_csv('VehicleType.csv', index_col=False)\n",
    "vehiclecondition_table = pd.read_csv('VehicleCondition.csv', index_col=False)"
   ]
  },
  {
   "cell_type": "code",
   "execution_count": 85,
   "metadata": {},
   "outputs": [
    {
     "name": "stdout",
     "output_type": "stream",
     "text": [
      "<class 'pandas.core.frame.DataFrame'>\n",
      "RangeIndex: 256 entries, 0 to 255\n",
      "Data columns (total 11 columns):\n",
      " #   Column            Non-Null Count  Dtype  \n",
      "---  ------            --------------  -----  \n",
      " 0   infoid            256 non-null    int64  \n",
      " 1   Vehicle_name      256 non-null    object \n",
      " 2   Odometer          256 non-null    int64  \n",
      " 3   License_plate     0 non-null      float64\n",
      " 4   Cubic_power       252 non-null    object \n",
      " 5   Manufacture_year  256 non-null    int64  \n",
      " 6   ID_VehicleBrand   256 non-null    int64  \n",
      " 7   ID_VehicleLineup  256 non-null    int64  \n",
      " 8   Condition         256 non-null    int64  \n",
      " 9   ID_VehicleType    256 non-null    int64  \n",
      " 10  ID_Color          256 non-null    int64  \n",
      "dtypes: float64(1), int64(8), object(2)\n",
      "memory usage: 22.1+ KB\n"
     ]
    }
   ],
   "source": [
    "vehicleinfo_table.info()"
   ]
  },
  {
   "cell_type": "code",
   "execution_count": 86,
   "metadata": {},
   "outputs": [],
   "source": [
    "vehicleinfo_table['Cubic_power'] = vehicleinfo_table['Cubic_power'].str.replace('c', '').str.replace(',', '.')"
   ]
  },
  {
   "cell_type": "code",
   "execution_count": 87,
   "metadata": {},
   "outputs": [],
   "source": [
    "vehicleinfo_table.loc[9, 'Cubic_power'] = 50"
   ]
  },
  {
   "cell_type": "code",
   "execution_count": 89,
   "metadata": {},
   "outputs": [
    {
     "data": {
      "text/plain": [
       "Title             0\n",
       "Content           0\n",
       "Pricetag          0\n",
       "Image             1\n",
       "City_name         0\n",
       "ID_VehicleInfo    0\n",
       "dtype: int64"
      ]
     },
     "execution_count": 89,
     "metadata": {},
     "output_type": "execute_result"
    }
   ],
   "source": [
    "post_table.isnull().sum()"
   ]
  },
  {
   "cell_type": "code",
   "execution_count": 90,
   "metadata": {},
   "outputs": [],
   "source": [
    "post_table = post_table.where(pd.notnull(post_table), None)"
   ]
  },
  {
   "cell_type": "code",
   "execution_count": 91,
   "metadata": {},
   "outputs": [
    {
     "data": {
      "text/plain": [
       "infoid                0\n",
       "Vehicle_name          0\n",
       "Odometer              0\n",
       "License_plate       256\n",
       "Cubic_power           4\n",
       "Manufacture_year      0\n",
       "ID_VehicleBrand       0\n",
       "ID_VehicleLineup      0\n",
       "Condition             0\n",
       "ID_VehicleType        0\n",
       "ID_Color              0\n",
       "dtype: int64"
      ]
     },
     "execution_count": 91,
     "metadata": {},
     "output_type": "execute_result"
    }
   ],
   "source": [
    "vehicleinfo_table.isnull().sum()"
   ]
  },
  {
   "cell_type": "code",
   "execution_count": 92,
   "metadata": {},
   "outputs": [],
   "source": [
    "vehicleinfo_table = vehicleinfo_table.astype(object).where(pd.notnull(vehicleinfo_table), None)"
   ]
  },
  {
   "cell_type": "code",
   "execution_count": 93,
   "metadata": {},
   "outputs": [
    {
     "data": {
      "text/plain": [
       "id      0\n",
       "name    0\n",
       "logo    0\n",
       "dtype: int64"
      ]
     },
     "execution_count": 93,
     "metadata": {},
     "output_type": "execute_result"
    }
   ],
   "source": [
    "vehiclebrand_table.isnull().sum()"
   ]
  },
  {
   "cell_type": "code",
   "execution_count": 94,
   "metadata": {},
   "outputs": [
    {
     "data": {
      "text/plain": [
       "id          0\n",
       "name        0\n",
       "brand_id    0\n",
       "dtype: int64"
      ]
     },
     "execution_count": 94,
     "metadata": {},
     "output_type": "execute_result"
    }
   ],
   "source": [
    "vehiclelineup_table.isnull().sum()"
   ]
  },
  {
   "cell_type": "code",
   "execution_count": 95,
   "metadata": {},
   "outputs": [],
   "source": [
    "vehiclelineup_table = vehiclelineup_table.dropna(how='any')"
   ]
  },
  {
   "cell_type": "code",
   "execution_count": 96,
   "metadata": {},
   "outputs": [
    {
     "data": {
      "text/plain": [
       "id          0\n",
       "name        0\n",
       "brand_id    0\n",
       "dtype: int64"
      ]
     },
     "execution_count": 96,
     "metadata": {},
     "output_type": "execute_result"
    }
   ],
   "source": [
    "vehiclelineup_table.isnull().sum()"
   ]
  },
  {
   "cell_type": "code",
   "execution_count": 97,
   "metadata": {},
   "outputs": [
    {
     "data": {
      "text/plain": [
       "id      0\n",
       "name    0\n",
       "dtype: int64"
      ]
     },
     "execution_count": 97,
     "metadata": {},
     "output_type": "execute_result"
    }
   ],
   "source": [
    "vehicletype_table.isnull().sum()"
   ]
  },
  {
   "cell_type": "code",
   "execution_count": 98,
   "metadata": {},
   "outputs": [
    {
     "data": {
      "text/plain": [
       "id      0\n",
       "name    0\n",
       "dtype: int64"
      ]
     },
     "execution_count": 98,
     "metadata": {},
     "output_type": "execute_result"
    }
   ],
   "source": [
    "vehiclecondition_table.isnull().sum()"
   ]
  },
  {
   "cell_type": "code",
   "execution_count": 99,
   "metadata": {},
   "outputs": [],
   "source": [
    "vehiclebrand_table.to_csv(\"VehicleBrand.csv\", index=None)\n",
    "vehiclelineup_table.to_csv(\"VehicleLineup.csv\", index=None)\n",
    "post_table.to_csv(\"Post.csv\", index=None)\n",
    "vehicleinfo_table.to_csv(\"VehicleInfo.csv\", index=None)"
   ]
  }
 ],
 "metadata": {
  "kernelspec": {
   "display_name": "Python 3.9.13 ('base')",
   "language": "python",
   "name": "python3"
  },
  "language_info": {
   "codemirror_mode": {
    "name": "ipython",
    "version": 3
   },
   "file_extension": ".py",
   "mimetype": "text/x-python",
   "name": "python",
   "nbconvert_exporter": "python",
   "pygments_lexer": "ipython3",
   "version": "3.9.13"
  },
  "orig_nbformat": 4,
  "vscode": {
   "interpreter": {
    "hash": "1bc21cde4c86ca13b4e240abf94c4132ad461bcfd0bbdb68065aafeefcba9a4d"
   }
  }
 },
 "nbformat": 4,
 "nbformat_minor": 2
}
